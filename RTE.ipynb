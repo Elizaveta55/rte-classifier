{
  "cells": [
    {
      "cell_type": "code",
      "execution_count": null,
      "metadata": {
        "id": "Fq0K9odFM5as"
      },
      "outputs": [],
      "source": [
        "!pip install  transformers lazypredict"
      ]
    },
    {
      "cell_type": "code",
      "source": [
        "!pip uninstall scikit-learn -y\n",
        "!pip install scikit-learn==0.23.1"
      ],
      "metadata": {
        "id": "RZC6Fdp2SSTi"
      },
      "execution_count": null,
      "outputs": []
    },
    {
      "cell_type": "code",
      "execution_count": null,
      "metadata": {
        "colab": {
          "base_uri": "https://localhost:8080/"
        },
        "id": "ZELos5iVM_p-",
        "outputId": "16aa1008-fbc9-4d04-82c3-5a0a4a5bb9b0"
      },
      "outputs": [
        {
          "output_type": "stream",
          "name": "stdout",
          "text": [
            "Downloading and extracting CoLA...\n",
            "\tCompleted!\n",
            "Downloading and extracting SST...\n",
            "\tCompleted!\n",
            "Downloading and extracting RTE...\n",
            "\tCompleted!\n"
          ]
        }
      ],
      "source": [
        "import os\n",
        "import sys\n",
        "import shutil\n",
        "import tempfile\n",
        "import urllib.request\n",
        "import zipfile\n",
        "from sklearn.metrics import log_loss, f1_score, roc_curve, auc\n",
        "\n",
        "\n",
        "TASKS = [\"CoLA\", \"SST\", \"RTE\"]\n",
        "TASK2PATH = {\"CoLA\":'https://dl.fbaipublicfiles.com/glue/data/CoLA.zip',\n",
        "             \"SST\":'https://dl.fbaipublicfiles.com/glue/data/SST-2.zip',\n",
        "             \"RTE\":'https://dl.fbaipublicfiles.com/glue/data/RTE.zip'}\n",
        "\n",
        "def download_and_extract(task, data_dir):\n",
        "    print(\"Downloading and extracting %s...\" % task)\n",
        "    data_file = \"%s.zip\" % task\n",
        "    urllib.request.urlretrieve(TASK2PATH[task], data_file)\n",
        "    with zipfile.ZipFile(data_file) as zip_ref:\n",
        "        zip_ref.extractall(data_dir)\n",
        "    os.remove(data_file)\n",
        "    print(\"\\tCompleted!\")\n",
        "    \n",
        "\n",
        "def get_tasks(task_names):\n",
        "    if \"all\" in task_names:\n",
        "        tasks = TASKS\n",
        "    else:\n",
        "        tasks = []\n",
        "        for task_name in task_names:\n",
        "            assert task_name in TASKS, \"Task %s not found!\" % task_name\n",
        "            tasks.append(task_name)\n",
        "    return tasks\n",
        "\n",
        "def main():\n",
        "    tasks = get_tasks('all')\n",
        "\n",
        "    for task in tasks:\n",
        "      download_and_extract(task, '/content/data')\n",
        "\n",
        "main()"
      ]
    },
    {
      "cell_type": "markdown",
      "source": [
        "# RTE classifiers\n",
        "\n",
        "Here we aim to try different simple hypothesis about data representation of two sentences to make the model to perform best."
      ],
      "metadata": {
        "id": "FvHijxFX-9dk"
      }
    },
    {
      "cell_type": "code",
      "execution_count": null,
      "metadata": {
        "id": "H0kVcT1kNAeO"
      },
      "outputs": [],
      "source": [
        "## RTE\n",
        "import pandas as pd\n",
        "\n",
        "data_pth = '/content/data'\n",
        "TASKS = [\"CoLA\", \"SST-2\", \"RTE\"]\n",
        "\n",
        "train_data = pd.read_table(os.path.join(data_pth, TASKS[2], 'train.tsv'))\n",
        "test_data = pd.read_table(os.path.join(data_pth, TASKS[2], 'dev.tsv'))"
      ]
    },
    {
      "cell_type": "code",
      "execution_count": null,
      "metadata": {
        "colab": {
          "base_uri": "https://localhost:8080/",
          "height": 424
        },
        "id": "Z2Pu7W-iNFv4",
        "outputId": "18c14c6f-08f7-4d9b-e642-9230a4f17db0"
      },
      "outputs": [
        {
          "data": {
            "text/html": [
              "\n",
              "  <div id=\"df-dd19a2d9-354d-4077-8fe0-e9ecbe3dc392\">\n",
              "    <div class=\"colab-df-container\">\n",
              "      <div>\n",
              "<style scoped>\n",
              "    .dataframe tbody tr th:only-of-type {\n",
              "        vertical-align: middle;\n",
              "    }\n",
              "\n",
              "    .dataframe tbody tr th {\n",
              "        vertical-align: top;\n",
              "    }\n",
              "\n",
              "    .dataframe thead th {\n",
              "        text-align: right;\n",
              "    }\n",
              "</style>\n",
              "<table border=\"1\" class=\"dataframe\">\n",
              "  <thead>\n",
              "    <tr style=\"text-align: right;\">\n",
              "      <th></th>\n",
              "      <th>index</th>\n",
              "      <th>sentence1</th>\n",
              "      <th>sentence2</th>\n",
              "      <th>label</th>\n",
              "    </tr>\n",
              "  </thead>\n",
              "  <tbody>\n",
              "    <tr>\n",
              "      <th>0</th>\n",
              "      <td>0</td>\n",
              "      <td>No Weapons of Mass Destruction Found in Iraq Yet.</td>\n",
              "      <td>Weapons of Mass Destruction Found in Iraq.</td>\n",
              "      <td>not_entailment</td>\n",
              "    </tr>\n",
              "    <tr>\n",
              "      <th>1</th>\n",
              "      <td>1</td>\n",
              "      <td>A place of sorrow, after Pope John Paul II die...</td>\n",
              "      <td>Pope Benedict XVI is the new leader of the Rom...</td>\n",
              "      <td>entailment</td>\n",
              "    </tr>\n",
              "    <tr>\n",
              "      <th>2</th>\n",
              "      <td>2</td>\n",
              "      <td>Herceptin was already approved to treat the si...</td>\n",
              "      <td>Herceptin can be used to treat breast cancer.</td>\n",
              "      <td>entailment</td>\n",
              "    </tr>\n",
              "    <tr>\n",
              "      <th>3</th>\n",
              "      <td>3</td>\n",
              "      <td>Judie Vivian, chief executive at ProMedica, a ...</td>\n",
              "      <td>The previous name of Ho Chi Minh City was Saigon.</td>\n",
              "      <td>entailment</td>\n",
              "    </tr>\n",
              "    <tr>\n",
              "      <th>4</th>\n",
              "      <td>4</td>\n",
              "      <td>A man is due in court later charged with the m...</td>\n",
              "      <td>Paul Stewart Hutchinson is accused of having s...</td>\n",
              "      <td>not_entailment</td>\n",
              "    </tr>\n",
              "    <tr>\n",
              "      <th>...</th>\n",
              "      <td>...</td>\n",
              "      <td>...</td>\n",
              "      <td>...</td>\n",
              "      <td>...</td>\n",
              "    </tr>\n",
              "    <tr>\n",
              "      <th>2485</th>\n",
              "      <td>2485</td>\n",
              "      <td>There is none. They found as many weapons in t...</td>\n",
              "      <td>Weapons of mass destruction found in Iraq.</td>\n",
              "      <td>not_entailment</td>\n",
              "    </tr>\n",
              "    <tr>\n",
              "      <th>2486</th>\n",
              "      <td>2486</td>\n",
              "      <td>Dr. Eric Goosby, a pioneer in the fight agains...</td>\n",
              "      <td>Pepfar is committed to fighting AIDS.</td>\n",
              "      <td>entailment</td>\n",
              "    </tr>\n",
              "    <tr>\n",
              "      <th>2487</th>\n",
              "      <td>2487</td>\n",
              "      <td>NASA's Saturn exploration spacecraft, Cassini ...</td>\n",
              "      <td>Titan is the fifteenth of Saturn's known satel...</td>\n",
              "      <td>not_entailment</td>\n",
              "    </tr>\n",
              "    <tr>\n",
              "      <th>2488</th>\n",
              "      <td>2488</td>\n",
              "      <td>Brooklyn Borough Hall featured a Who's Who in ...</td>\n",
              "      <td>The Brooklyn Book Festival is held in Brooklyn...</td>\n",
              "      <td>entailment</td>\n",
              "    </tr>\n",
              "    <tr>\n",
              "      <th>2489</th>\n",
              "      <td>2489</td>\n",
              "      <td>Turkey is unlikely to become involved in, or a...</td>\n",
              "      <td>U.S. to use Turkish military bases.</td>\n",
              "      <td>not_entailment</td>\n",
              "    </tr>\n",
              "  </tbody>\n",
              "</table>\n",
              "<p>2490 rows × 4 columns</p>\n",
              "</div>\n",
              "      <button class=\"colab-df-convert\" onclick=\"convertToInteractive('df-dd19a2d9-354d-4077-8fe0-e9ecbe3dc392')\"\n",
              "              title=\"Convert this dataframe to an interactive table.\"\n",
              "              style=\"display:none;\">\n",
              "        \n",
              "  <svg xmlns=\"http://www.w3.org/2000/svg\" height=\"24px\"viewBox=\"0 0 24 24\"\n",
              "       width=\"24px\">\n",
              "    <path d=\"M0 0h24v24H0V0z\" fill=\"none\"/>\n",
              "    <path d=\"M18.56 5.44l.94 2.06.94-2.06 2.06-.94-2.06-.94-.94-2.06-.94 2.06-2.06.94zm-11 1L8.5 8.5l.94-2.06 2.06-.94-2.06-.94L8.5 2.5l-.94 2.06-2.06.94zm10 10l.94 2.06.94-2.06 2.06-.94-2.06-.94-.94-2.06-.94 2.06-2.06.94z\"/><path d=\"M17.41 7.96l-1.37-1.37c-.4-.4-.92-.59-1.43-.59-.52 0-1.04.2-1.43.59L10.3 9.45l-7.72 7.72c-.78.78-.78 2.05 0 2.83L4 21.41c.39.39.9.59 1.41.59.51 0 1.02-.2 1.41-.59l7.78-7.78 2.81-2.81c.8-.78.8-2.07 0-2.86zM5.41 20L4 18.59l7.72-7.72 1.47 1.35L5.41 20z\"/>\n",
              "  </svg>\n",
              "      </button>\n",
              "      \n",
              "  <style>\n",
              "    .colab-df-container {\n",
              "      display:flex;\n",
              "      flex-wrap:wrap;\n",
              "      gap: 12px;\n",
              "    }\n",
              "\n",
              "    .colab-df-convert {\n",
              "      background-color: #E8F0FE;\n",
              "      border: none;\n",
              "      border-radius: 50%;\n",
              "      cursor: pointer;\n",
              "      display: none;\n",
              "      fill: #1967D2;\n",
              "      height: 32px;\n",
              "      padding: 0 0 0 0;\n",
              "      width: 32px;\n",
              "    }\n",
              "\n",
              "    .colab-df-convert:hover {\n",
              "      background-color: #E2EBFA;\n",
              "      box-shadow: 0px 1px 2px rgba(60, 64, 67, 0.3), 0px 1px 3px 1px rgba(60, 64, 67, 0.15);\n",
              "      fill: #174EA6;\n",
              "    }\n",
              "\n",
              "    [theme=dark] .colab-df-convert {\n",
              "      background-color: #3B4455;\n",
              "      fill: #D2E3FC;\n",
              "    }\n",
              "\n",
              "    [theme=dark] .colab-df-convert:hover {\n",
              "      background-color: #434B5C;\n",
              "      box-shadow: 0px 1px 3px 1px rgba(0, 0, 0, 0.15);\n",
              "      filter: drop-shadow(0px 1px 2px rgba(0, 0, 0, 0.3));\n",
              "      fill: #FFFFFF;\n",
              "    }\n",
              "  </style>\n",
              "\n",
              "      <script>\n",
              "        const buttonEl =\n",
              "          document.querySelector('#df-dd19a2d9-354d-4077-8fe0-e9ecbe3dc392 button.colab-df-convert');\n",
              "        buttonEl.style.display =\n",
              "          google.colab.kernel.accessAllowed ? 'block' : 'none';\n",
              "\n",
              "        async function convertToInteractive(key) {\n",
              "          const element = document.querySelector('#df-dd19a2d9-354d-4077-8fe0-e9ecbe3dc392');\n",
              "          const dataTable =\n",
              "            await google.colab.kernel.invokeFunction('convertToInteractive',\n",
              "                                                     [key], {});\n",
              "          if (!dataTable) return;\n",
              "\n",
              "          const docLinkHtml = 'Like what you see? Visit the ' +\n",
              "            '<a target=\"_blank\" href=https://colab.research.google.com/notebooks/data_table.ipynb>data table notebook</a>'\n",
              "            + ' to learn more about interactive tables.';\n",
              "          element.innerHTML = '';\n",
              "          dataTable['output_type'] = 'display_data';\n",
              "          await google.colab.output.renderOutput(dataTable, element);\n",
              "          const docLink = document.createElement('div');\n",
              "          docLink.innerHTML = docLinkHtml;\n",
              "          element.appendChild(docLink);\n",
              "        }\n",
              "      </script>\n",
              "    </div>\n",
              "  </div>\n",
              "  "
            ],
            "text/plain": [
              "      index                                          sentence1  \\\n",
              "0         0  No Weapons of Mass Destruction Found in Iraq Yet.   \n",
              "1         1  A place of sorrow, after Pope John Paul II die...   \n",
              "2         2  Herceptin was already approved to treat the si...   \n",
              "3         3  Judie Vivian, chief executive at ProMedica, a ...   \n",
              "4         4  A man is due in court later charged with the m...   \n",
              "...     ...                                                ...   \n",
              "2485   2485  There is none. They found as many weapons in t...   \n",
              "2486   2486  Dr. Eric Goosby, a pioneer in the fight agains...   \n",
              "2487   2487  NASA's Saturn exploration spacecraft, Cassini ...   \n",
              "2488   2488  Brooklyn Borough Hall featured a Who's Who in ...   \n",
              "2489   2489  Turkey is unlikely to become involved in, or a...   \n",
              "\n",
              "                                              sentence2           label  \n",
              "0            Weapons of Mass Destruction Found in Iraq.  not_entailment  \n",
              "1     Pope Benedict XVI is the new leader of the Rom...      entailment  \n",
              "2         Herceptin can be used to treat breast cancer.      entailment  \n",
              "3     The previous name of Ho Chi Minh City was Saigon.      entailment  \n",
              "4     Paul Stewart Hutchinson is accused of having s...  not_entailment  \n",
              "...                                                 ...             ...  \n",
              "2485         Weapons of mass destruction found in Iraq.  not_entailment  \n",
              "2486              Pepfar is committed to fighting AIDS.      entailment  \n",
              "2487  Titan is the fifteenth of Saturn's known satel...  not_entailment  \n",
              "2488  The Brooklyn Book Festival is held in Brooklyn...      entailment  \n",
              "2489                U.S. to use Turkish military bases.  not_entailment  \n",
              "\n",
              "[2490 rows x 4 columns]"
            ]
          },
          "execution_count": 5,
          "metadata": {},
          "output_type": "execute_result"
        }
      ],
      "source": [
        "train_data"
      ]
    },
    {
      "cell_type": "code",
      "execution_count": null,
      "metadata": {
        "id": "X1rjuc-JNGTR"
      },
      "outputs": [],
      "source": [
        "sent1 = train_data.loc[:,'sentence1']\n",
        "sent2 = train_data.loc[:,'sentence2']\n",
        "x_train = [(sent1[i], sent2[i]) for i in range(train_data.shape[0])]\n",
        "y_train = train_data.loc[:,'label']\n",
        "sent1 = test_data.loc[:,'sentence1']\n",
        "sent2 = test_data.loc[:,'sentence2']\n",
        "x_test = [(sent1[i], sent2[i]) for i in range(test_data.shape[0])]\n",
        "y_test = test_data.loc[:,'label']"
      ]
    },
    {
      "cell_type": "code",
      "execution_count": null,
      "metadata": {
        "colab": {
          "base_uri": "https://localhost:8080/"
        },
        "id": "WzCYajUfNIWD",
        "outputId": "c22fd2b1-7657-4128-976e-a182828eaaaf"
      },
      "outputs": [
        {
          "output_type": "execute_result",
          "data": {
            "text/plain": [
              "277"
            ]
          },
          "metadata": {},
          "execution_count": 5
        }
      ],
      "source": [
        "len(y_test)"
      ]
    },
    {
      "cell_type": "code",
      "execution_count": null,
      "metadata": {
        "colab": {
          "base_uri": "https://localhost:8080/"
        },
        "id": "5jjz0Xc5NKkN",
        "outputId": "1548af77-2a2c-4131-f989-5658f5229bc2"
      },
      "outputs": [
        {
          "output_type": "stream",
          "name": "stdout",
          "text": [
            "[nltk_data] Downloading package stopwords to /root/nltk_data...\n",
            "[nltk_data]   Package stopwords is already up-to-date!\n",
            "[nltk_data] Downloading package punkt to /root/nltk_data...\n",
            "[nltk_data]   Package punkt is already up-to-date!\n"
          ]
        }
      ],
      "source": [
        "import time\n",
        "from transformers import AutoTokenizer, AutoModel\n",
        "import torch\n",
        "import nltk\n",
        "nltk.download('stopwords')\n",
        "nltk.download('punkt')\n",
        "from nltk.corpus import stopwords\n",
        "from nltk.tokenize import word_tokenize\n",
        "from sklearn.metrics.pairwise import cosine_similarity\n",
        "\n",
        "stop_words = set(stopwords.words('english'))\n",
        "tokenizer = AutoTokenizer.from_pretrained('sentence-transformers/bert-base-nli-mean-tokens')\n",
        "model = AutoModel.from_pretrained('sentence-transformers/bert-base-nli-mean-tokens')\n",
        "\n",
        "def sent_preprocess(sentence):\n",
        "  word_tokens = word_tokenize(sentence)\n",
        "  filtered_sentence = [w.lower() for w in word_tokens if w not in stop_words]\n",
        "  \n",
        "  tokens = {'input_ids': [], 'attention_mask': []}\n",
        "\n",
        "  new_tokens = tokenizer.encode_plus(sentence, max_length=128,\n",
        "                                      truncation=True, padding='max_length',\n",
        "                                      return_tensors='pt')\n",
        "  tokens['input_ids'].append(new_tokens['input_ids'][0])\n",
        "  tokens['attention_mask'].append(new_tokens['attention_mask'][0])\n",
        "\n",
        "  tokens['input_ids'] = torch.stack(tokens['input_ids'])\n",
        "  tokens['attention_mask'] = torch.stack(tokens['attention_mask'])\n",
        "\n",
        "  outputs = model(**tokens)\n",
        "  embeddings = outputs.last_hidden_state\n",
        "\n",
        "  attention_mask = tokens['attention_mask']\n",
        "  mask = attention_mask.unsqueeze(-1).expand(embeddings.size()).float()\n",
        "  masked_embeddings = embeddings * mask\n",
        "  summed = torch.sum(masked_embeddings, 1)\n",
        "  summed_mask = torch.clamp(mask.sum(1), min=1e-9)\n",
        "  mean_pooled = summed / summed_mask\n",
        "\n",
        "  mean_pooled = mean_pooled.detach().numpy()\n",
        "\n",
        "  return mean_pooled"
      ]
    },
    {
      "cell_type": "code",
      "execution_count": null,
      "metadata": {
        "id": "TWJzTFYCNNh4"
      },
      "outputs": [],
      "source": [
        "def find_similarity(sentences):\n",
        "  tokens = {'input_ids': [], 'attention_mask': []}\n",
        "\n",
        "  for sentence in sentences:\n",
        "      new_tokens = tokenizer.encode_plus(sentence, max_length=128,\n",
        "                                        truncation=True, padding='max_length',\n",
        "                                        return_tensors='pt')\n",
        "      tokens['input_ids'].append(new_tokens['input_ids'][0])\n",
        "      tokens['attention_mask'].append(new_tokens['attention_mask'][0])\n",
        "\n",
        "  tokens['input_ids'] = torch.stack(tokens['input_ids'])\n",
        "  tokens['attention_mask'] = torch.stack(tokens['attention_mask'])\n",
        "\n",
        "  outputs = model(**tokens)\n",
        "  embeddings = outputs.last_hidden_state\n",
        "\n",
        "  attention_mask = tokens['attention_mask']\n",
        "  mask = attention_mask.unsqueeze(-1).expand(embeddings.size()).float()\n",
        "  masked_embeddings = embeddings * mask\n",
        "  summed = torch.sum(masked_embeddings, 1)\n",
        "  summed_mask = torch.clamp(mask.sum(1), min=1e-9)\n",
        "  mean_pooled = summed / summed_mask\n",
        "\n",
        "\n",
        "  mean_pooled = mean_pooled.detach().numpy()\n",
        "  cosine_array = cosine_similarity(\n",
        "      [mean_pooled[0]],\n",
        "      mean_pooled[1:]\n",
        "  )\n",
        "\n",
        "  return cosine_array.sum()/(len(sentences)-1)"
      ]
    },
    {
      "cell_type": "code",
      "execution_count": null,
      "metadata": {
        "colab": {
          "base_uri": "https://localhost:8080/"
        },
        "id": "hIjFe1QvOEvv",
        "outputId": "5acb1bc2-9baa-458f-ea77-fa2b0a8da4bd"
      },
      "outputs": [
        {
          "name": "stderr",
          "output_type": "stream",
          "text": [
            "100%|██████████| 2490/2490 [38:22<00:00,  1.08it/s]\n"
          ]
        }
      ],
      "source": [
        "import tqdm\n",
        "cos_dict = []\n",
        "\n",
        "for item in tqdm.tqdm(x_train):\n",
        "  sentences = [\n",
        "      item[0],\n",
        "      item[1]\n",
        "  ]\n",
        "  cos_dict.append(find_similarity(sentences))"
      ]
    },
    {
      "cell_type": "code",
      "execution_count": null,
      "metadata": {
        "colab": {
          "base_uri": "https://localhost:8080/"
        },
        "id": "LWnJKaqpabcW",
        "outputId": "17c3acb1-e353-436e-8ce5-329b085ed176"
      },
      "outputs": [
        {
          "output_type": "stream",
          "name": "stdout",
          "text": [
            "0      0.00\n",
            "1      1.00\n",
            "2      1.00\n",
            "3      1.00\n",
            "4      0.00\n",
            "       ... \n",
            "2236   1.00\n",
            "2237   0.00\n",
            "2238   0.00\n",
            "2239   1.00\n",
            "2240   1.00\n",
            "Name: label, Length: 2241, dtype: float64\n",
            "0      0\n",
            "1      1\n",
            "2      0\n",
            "3      0\n",
            "4      1\n",
            "      ..\n",
            "272    1\n",
            "273    1\n",
            "274    1\n",
            "275    1\n",
            "276    0\n",
            "Name: label, Length: 277, dtype: int64\n"
          ]
        }
      ],
      "source": [
        "import numpy as np\n",
        "\n",
        "y_train = y_train.replace('not_entailment', 0)\n",
        "y_train = y_train.replace('entailment', 1)\n",
        "\n",
        "print(y_train)\n",
        "\n",
        "y_test = y_test.replace('not_entailment', 0)\n",
        "y_test = y_test.replace('entailment', 1)\n",
        "\n",
        "print(y_test)"
      ]
    },
    {
      "cell_type": "markdown",
      "source": [
        "Here we aim to assess the dependence between cosine distance and data distribution. The assumption is the higher cosine distance the closer data to label 'entailment'. \n",
        "\n",
        "But the plot indicates there is no correlation between these variables. Possible explanations might be due to high data dimensionality or too complex dependence."
      ],
      "metadata": {
        "id": "iEkwegQV_T52"
      }
    },
    {
      "cell_type": "code",
      "execution_count": null,
      "metadata": {
        "colab": {
          "base_uri": "https://localhost:8080/",
          "height": 265
        },
        "id": "7QxyP7hsOjoC",
        "outputId": "5bffd646-8928-43ba-ea8d-cb7c450d781a"
      },
      "outputs": [
        {
          "data": {
            "image/png": "[encoded data removed]",
            "text/plain": [
              "<Figure size 432x288 with 1 Axes>"
            ]
          },
          "metadata": {},
          "output_type": "display_data"
        }
      ],
      "source": [
        "import matplotlib.pyplot as plt\n",
        "\n",
        "plt.plot(cos_dict, y_train.values, 'o')\n",
        "plt.show()"
      ]
    },
    {
      "cell_type": "code",
      "execution_count": null,
      "metadata": {
        "colab": {
          "base_uri": "https://localhost:8080/",
          "height": 265
        },
        "id": "ovMCZm9VcdCk",
        "outputId": "5b8d6c59-7671-44a5-b853-64c228be139a"
      },
      "outputs": [
        {
          "data": {
            "image/png": "[encoded data removed]",
            "text/plain": [
              "<Figure size 432x288 with 1 Axes>"
            ]
          },
          "metadata": {},
          "output_type": "display_data"
        }
      ],
      "source": [
        "import matplotlib.pyplot as plt\n",
        "\n",
        "plt.plot(cos_dict)\n",
        "plt.show()"
      ]
    },
    {
      "cell_type": "markdown",
      "source": [
        "## **Representation Substruction**\n",
        "\n",
        "Assumprion: difference of features of representation of two sentences might be enought to train classifiers how to distinguich one class from another."
      ],
      "metadata": {
        "id": "OPKhqshVQO3u"
      }
    },
    {
      "cell_type": "code",
      "execution_count": null,
      "metadata": {
        "id": "TXwGjyWtqTr1"
      },
      "outputs": [],
      "source": [
        "def find_similarity(sentences):\n",
        "  tokens = {'input_ids': [], 'attention_mask': []}\n",
        "\n",
        "  for sentence in sentences:\n",
        "      new_tokens = tokenizer.encode_plus(sentence, max_length=128,\n",
        "                                        truncation=True, padding='max_length',\n",
        "                                        return_tensors='pt')\n",
        "      tokens['input_ids'].append(new_tokens['input_ids'][0])\n",
        "      tokens['attention_mask'].append(new_tokens['attention_mask'][0])\n",
        "\n",
        "  tokens['input_ids'] = torch.stack(tokens['input_ids'])\n",
        "  tokens['attention_mask'] = torch.stack(tokens['attention_mask'])\n",
        "\n",
        "  outputs = model(**tokens)\n",
        "  embeddings = outputs.last_hidden_state\n",
        "\n",
        "  attention_mask = tokens['attention_mask']\n",
        "  mask = attention_mask.unsqueeze(-1).expand(embeddings.size()).float()\n",
        "  masked_embeddings = embeddings * mask\n",
        "  summed = torch.sum(masked_embeddings, 1)\n",
        "  summed_mask = torch.clamp(mask.sum(1), min=1e-9)\n",
        "  mean_pooled = summed / summed_mask\n",
        "\n",
        "\n",
        "  mean_pooled = mean_pooled.detach().numpy()\n",
        "\n",
        "  return mean_pooled[0] - mean_pooled[1]"
      ]
    },
    {
      "cell_type": "code",
      "execution_count": null,
      "metadata": {
        "id": "rygno7VAq85x"
      },
      "outputs": [],
      "source": [
        "import tqdm\n",
        "\n",
        "x_train_preprocessed = [find_similarity(sent) for sent in tqdm.tqdm(x_train)]\n",
        "x_test_preprocessed = [find_similarity(sent) for sent in tqdm.tqdm(x_test)]"
      ]
    },
    {
      "cell_type": "code",
      "execution_count": null,
      "metadata": {
        "id": "2mT24FyIrAkg",
        "colab": {
          "base_uri": "https://localhost:8080/"
        },
        "outputId": "05dfd547-c70d-4140-8359-1ed3d58969af"
      },
      "outputs": [
        {
          "output_type": "stream",
          "name": "stdout",
          "text": [
            "249\n",
            "2241\n",
            "249\n",
            "2241\n"
          ]
        }
      ],
      "source": [
        "size = 2241\n",
        "vector_size = 768\n",
        "\n",
        "x_valid_preprocessed = x_train_preprocessed[size:len(x_train)]\n",
        "x_train_preprocessed = x_train_preprocessed[0:size]\n",
        "\n",
        "y_valid = y_train[size:len(x_train)]\n",
        "y_train = y_train[0:size]\n",
        "\n",
        "print(len(x_valid_preprocessed))\n",
        "print(len(x_train_preprocessed))\n",
        "print(len(y_valid))\n",
        "print(len(y_train))"
      ]
    },
    {
      "cell_type": "code",
      "source": [
        "# print((x_valid_preprocessed))\n",
        "# print((x_train_preprocessed))\n",
        "\n",
        "# y_train = train_data.loc[:,'label']\n",
        "# y_train = y_train[0:size]\n",
        "\n",
        "# y_train = y_train.replace('not_entailment', 0)\n",
        "# y_train = y_train.replace('entailment', 1)\n",
        "\n",
        "# y_valid = y_valid.replace('not_entailment', 0)\n",
        "# y_valid = y_valid.replace('entailment', 1)\n",
        "\n",
        "print(y_valid)\n",
        "# print((y_train==np.inf).describe())\n",
        "print(y_train.fillna(0).astype('int64'))\n",
        "print(y_test)"
      ],
      "metadata": {
        "id": "xbyQNMXagy73"
      },
      "execution_count": null,
      "outputs": []
    },
    {
      "cell_type": "markdown",
      "source": [
        "### **General classifiers**"
      ],
      "metadata": {
        "id": "wZ--20OOQUxz"
      }
    },
    {
      "cell_type": "code",
      "execution_count": null,
      "metadata": {
        "id": "nNV9kS4TrDiS",
        "colab": {
          "base_uri": "https://localhost:8080/"
        },
        "outputId": "a07a2876-ca6f-4ec5-c569-310375db03f3"
      },
      "outputs": [
        {
          "output_type": "stream",
          "name": "stderr",
          "text": [
            "100%|██████████| 29/29 [02:30<00:00,  5.19s/it]"
          ]
        },
        {
          "output_type": "stream",
          "name": "stdout",
          "text": [
            "                               Accuracy  Balanced Accuracy  ROC AUC  F1 Score  \\\n",
            "Model                                                                           \n",
            "SVC                                0.64               0.64     0.64      0.64   \n",
            "ExtraTreesClassifier               0.64               0.64     0.64      0.64   \n",
            "GaussianNB                         0.63               0.63     0.63      0.62   \n",
            "LGBMClassifier                     0.63               0.63     0.63      0.63   \n",
            "NuSVC                              0.62               0.62     0.62      0.62   \n",
            "AdaBoostClassifier                 0.60               0.60     0.60      0.60   \n",
            "XGBClassifier                      0.59               0.59     0.59      0.59   \n",
            "RandomForestClassifier             0.58               0.58     0.58      0.58   \n",
            "RidgeClassifierCV                  0.57               0.57     0.57      0.57   \n",
            "BernoulliNB                        0.57               0.57     0.57      0.57   \n",
            "RidgeClassifier                    0.56               0.56     0.56      0.56   \n",
            "LinearDiscriminantAnalysis         0.56               0.56     0.56      0.56   \n",
            "LogisticRegression                 0.56               0.56     0.56      0.56   \n",
            "NearestCentroid                    0.55               0.55     0.55      0.55   \n",
            "PassiveAggressiveClassifier        0.54               0.54     0.54      0.54   \n",
            "BaggingClassifier                  0.54               0.54     0.54      0.54   \n",
            "DecisionTreeClassifier             0.54               0.54     0.54      0.54   \n",
            "ExtraTreeClassifier                0.53               0.53     0.53      0.53   \n",
            "Perceptron                         0.53               0.53     0.53      0.53   \n",
            "SGDClassifier                      0.53               0.53     0.53      0.53   \n",
            "KNeighborsClassifier               0.52               0.53     0.53      0.46   \n",
            "LinearSVC                          0.51               0.51     0.51      0.51   \n",
            "LabelSpreading                     0.51               0.50     0.50      0.34   \n",
            "LabelPropagation                   0.51               0.50     0.50      0.34   \n",
            "CalibratedClassifierCV             0.49               0.49     0.49      0.48   \n",
            "QuadraticDiscriminantAnalysis      0.47               0.47     0.47      0.45   \n",
            "DummyClassifier                    0.47               0.47     0.47      0.47   \n",
            "\n",
            "                               Time Taken  \n",
            "Model                                      \n",
            "SVC                                  8.62  \n",
            "ExtraTreesClassifier                 1.68  \n",
            "GaussianNB                           0.11  \n",
            "LGBMClassifier                      22.44  \n",
            "NuSVC                                9.50  \n",
            "AdaBoostClassifier                  13.85  \n",
            "XGBClassifier                       28.65  \n",
            "RandomForestClassifier               8.32  \n",
            "RidgeClassifierCV                    2.35  \n",
            "BernoulliNB                          0.15  \n",
            "RidgeClassifier                      0.26  \n",
            "LinearDiscriminantAnalysis           1.16  \n",
            "LogisticRegression                   0.91  \n",
            "NearestCentroid                      0.21  \n",
            "PassiveAggressiveClassifier          0.32  \n",
            "BaggingClassifier                   17.12  \n",
            "DecisionTreeClassifier               3.10  \n",
            "ExtraTreeClassifier                  0.11  \n",
            "Perceptron                           0.24  \n",
            "SGDClassifier                        1.12  \n",
            "KNeighborsClassifier                 1.39  \n",
            "LinearSVC                            6.59  \n",
            "LabelSpreading                       0.84  \n",
            "LabelPropagation                     0.76  \n",
            "CalibratedClassifierCV              18.98  \n",
            "QuadraticDiscriminantAnalysis        1.33  \n",
            "DummyClassifier                      0.10  \n"
          ]
        },
        {
          "output_type": "stream",
          "name": "stderr",
          "text": [
            "\n"
          ]
        }
      ],
      "source": [
        "from lazypredict.Supervised import LazyClassifier\n",
        "import numpy as np\n",
        "\n",
        "\n",
        "clf = LazyClassifier(verbose=0,ignore_warnings=True, custom_metric=None)\n",
        "#models,predictions = clf.fit(df_train, df_test, y_train, y_test)\n",
        "models,predictions = clf.fit(np.array(x_train_preprocessed).reshape([len(x_train_preprocessed),vector_size]), np.array(x_valid_preprocessed).reshape([len(x_valid_preprocessed),vector_size]), y_train.fillna(0).astype('int64'), y_valid)\n",
        "\n",
        "\n",
        "print(models)"
      ]
    },
    {
      "cell_type": "code",
      "execution_count": null,
      "metadata": {
        "id": "TA2MAkCzrHjO",
        "colab": {
          "base_uri": "https://localhost:8080/"
        },
        "outputId": "f3d06232-83e7-451d-8129-7b9041ee1876"
      },
      "outputs": [
        {
          "output_type": "stream",
          "name": "stdout",
          "text": [
            "163 277\n"
          ]
        }
      ],
      "source": [
        "models = clf.provide_models(np.array(x_train_preprocessed).reshape([len(x_train_preprocessed),vector_size]), np.array(x_valid_preprocessed).reshape([len(x_valid_preprocessed),vector_size]), y_train.fillna(0).astype('int64'), y_valid)\n",
        "predictions = models['ExtraTreesClassifier'].predict(np.array(x_test_preprocessed).reshape([len(x_test_preprocessed),vector_size]))\n",
        "\n",
        "print(sum([predictions[i] == y_test[i] for i in range(len(x_test))]), len(x_test))"
      ]
    },
    {
      "cell_type": "code",
      "execution_count": null,
      "metadata": {
        "id": "-tkIKo8CtwOa",
        "colab": {
          "base_uri": "https://localhost:8080/",
          "height": 538
        },
        "outputId": "32d9644a-9524-41f7-c3d3-9ea346992245"
      },
      "outputs": [
        {
          "output_type": "stream",
          "name": "stdout",
          "text": [
            "BERT, best general classifier, substraction\n",
            "F-measure or f1-score:  0.6174496644295302\n",
            "Log loss:  14.214687670995051\n",
            "AUC:  0.5860608595628987\n",
            "Classification Report:\n",
            "              precision    recall  f1-score   support\n",
            "\n",
            "           1     0.6053    0.6301    0.6174       146\n",
            "           0     0.5680    0.5420    0.5547       131\n",
            "\n",
            "    accuracy                         0.5884       277\n",
            "   macro avg     0.5866    0.5861    0.5861       277\n",
            "weighted avg     0.5876    0.5884    0.5878       277\n",
            "\n"
          ]
        },
        {
          "output_type": "display_data",
          "data": {
            "text/plain": [
              "<Figure size 432x288 with 2 Axes>"
            ],
            "image/png": "[encoded data removed]"
          },
          "metadata": {
            "needs_background": "light"
          }
        }
      ],
      "source": [
        "from sklearn.metrics import log_loss, f1_score, roc_curve, auc\n",
        "from sklearn.metrics import accuracy_score, classification_report, confusion_matrix\n",
        "import matplotlib.pyplot as plt\n",
        "import seaborn as sns\n",
        "\n",
        "def eval(y_true, y_pred):\n",
        "    print('Classification Report:')\n",
        "    print(classification_report(y_true, y_pred, labels=[1,0], digits=4))\n",
        "\n",
        "    cm = confusion_matrix(y_true, y_pred, labels=[1,0])\n",
        "    ax= plt.subplot()\n",
        "    sns.heatmap(cm, annot=True, ax = ax, cmap='Blues', fmt=\"d\")\n",
        "\n",
        "    ax.set_title('Confusion Matrix')\n",
        "\n",
        "    ax.set_xlabel('Predicted Labels')\n",
        "    ax.set_ylabel('True Labels')\n",
        "\n",
        "    ax.xaxis.set_ticklabels(['FAKE', 'REAL'])\n",
        "    ax.yaxis.set_ticklabels(['FAKE', 'REAL'])\n",
        "# model evaluation\n",
        "\n",
        "print(\"BERT, best general classifier, substraction\")\n",
        "print(\"F-measure or f1-score: \", f1_score(y_test, predictions))\n",
        "print(\"Log loss: \", log_loss(y_test, predictions))\n",
        "\n",
        "fpr, tpr, thresholds = roc_curve(y_test, predictions)\n",
        "\n",
        "print(\"AUC: \", auc(fpr, tpr))\n",
        "\n",
        "eval(y_test, predictions)"
      ]
    },
    {
      "cell_type": "markdown",
      "metadata": {
        "id": "voLhmbvisQZq"
      },
      "source": [
        "### **LSTM**"
      ]
    },
    {
      "cell_type": "code",
      "execution_count": null,
      "metadata": {
        "id": "b4edYtturK2l"
      },
      "outputs": [],
      "source": [
        "import pandas as pd\n",
        "import numpy as np\n",
        "from keras.models import Sequential\n",
        "from keras.layers import LSTM, Dense, Dropout\n",
        "from keras.callbacks import EarlyStopping, ModelCheckpoint\n",
        "from matplotlib import pyplot\n",
        "from keras.layers import Bidirectional"
      ]
    },
    {
      "cell_type": "code",
      "execution_count": null,
      "metadata": {
        "id": "-9IOmL2IrNWL",
        "colab": {
          "base_uri": "https://localhost:8080/"
        },
        "outputId": "e9f8cf82-70f8-4710-f46a-066b558b5ea3"
      },
      "outputs": [
        {
          "output_type": "stream",
          "name": "stdout",
          "text": [
            "Epoch 1/50\n",
            "18/18 [==============================] - 13s 260ms/step - loss: 0.7048 - val_loss: 0.6651\n",
            "Epoch 2/50\n",
            "18/18 [==============================] - 4s 212ms/step - loss: 0.6145 - val_loss: 0.6561\n",
            "Epoch 3/50\n",
            "18/18 [==============================] - 5s 267ms/step - loss: 0.5654 - val_loss: 0.6352\n",
            "Epoch 4/50\n",
            "18/18 [==============================] - 5s 268ms/step - loss: 0.5012 - val_loss: 0.6847\n",
            "Epoch 5/50\n",
            "18/18 [==============================] - 5s 277ms/step - loss: 0.4236 - val_loss: 0.6725\n",
            "Epoch 6/50\n",
            "18/18 [==============================] - 5s 283ms/step - loss: 0.3437 - val_loss: 0.7227\n",
            "Epoch 7/50\n",
            "18/18 [==============================] - 5s 278ms/step - loss: 0.2685 - val_loss: 0.7847\n",
            "Epoch 8/50\n",
            "18/18 [==============================] - 5s 270ms/step - loss: 0.1905 - val_loss: 0.8234\n",
            "Epoch 9/50\n",
            "18/18 [==============================] - 6s 332ms/step - loss: 0.1312 - val_loss: 0.9799\n",
            "Epoch 10/50\n",
            "18/18 [==============================] - 6s 332ms/step - loss: 0.1085 - val_loss: 0.9487\n",
            "Epoch 11/50\n",
            "18/18 [==============================] - 7s 366ms/step - loss: 0.0739 - val_loss: 1.0289\n",
            "Epoch 12/50\n",
            "18/18 [==============================] - 5s 294ms/step - loss: 0.0488 - val_loss: 1.1229\n",
            "Epoch 13/50\n",
            "18/18 [==============================] - 5s 292ms/step - loss: 0.0348 - val_loss: 1.1521\n",
            "Epoch 14/50\n",
            "18/18 [==============================] - 5s 268ms/step - loss: 0.0265 - val_loss: 1.2033\n",
            "Epoch 15/50\n",
            "18/18 [==============================] - 5s 291ms/step - loss: 0.0228 - val_loss: 1.2285\n",
            "Epoch 16/50\n",
            "18/18 [==============================] - 6s 327ms/step - loss: 0.0166 - val_loss: 1.2608\n",
            "Epoch 17/50\n",
            "18/18 [==============================] - 5s 277ms/step - loss: 0.0124 - val_loss: 1.2840\n",
            "Epoch 18/50\n",
            "18/18 [==============================] - 5s 274ms/step - loss: 0.0100 - val_loss: 1.3174\n",
            "Epoch 19/50\n",
            "18/18 [==============================] - 5s 265ms/step - loss: 0.0086 - val_loss: 1.3394\n",
            "Epoch 20/50\n",
            "18/18 [==============================] - 4s 203ms/step - loss: 0.0073 - val_loss: 1.3525\n",
            "Epoch 21/50\n",
            "18/18 [==============================] - 4s 201ms/step - loss: 0.0065 - val_loss: 1.3865\n",
            "Epoch 22/50\n",
            "18/18 [==============================] - 4s 203ms/step - loss: 0.0057 - val_loss: 1.3997\n",
            "Epoch 23/50\n",
            "18/18 [==============================] - 4s 202ms/step - loss: 0.0051 - val_loss: 1.4256\n",
            "Epoch 24/50\n",
            "18/18 [==============================] - 4s 204ms/step - loss: 0.0046 - val_loss: 1.4438\n",
            "Epoch 25/50\n",
            "18/18 [==============================] - 4s 204ms/step - loss: 0.0041 - val_loss: 1.4589\n",
            "Epoch 26/50\n",
            "18/18 [==============================] - 4s 203ms/step - loss: 0.0037 - val_loss: 1.4772\n",
            "Epoch 27/50\n",
            "18/18 [==============================] - 4s 204ms/step - loss: 0.0033 - val_loss: 1.4914\n",
            "Epoch 28/50\n",
            "18/18 [==============================] - 4s 204ms/step - loss: 0.0030 - val_loss: 1.5078\n",
            "Epoch 29/50\n",
            "18/18 [==============================] - 4s 205ms/step - loss: 0.0028 - val_loss: 1.5237\n",
            "Epoch 30/50\n",
            "18/18 [==============================] - 4s 204ms/step - loss: 0.0025 - val_loss: 1.5284\n",
            "Epoch 31/50\n",
            "18/18 [==============================] - 4s 202ms/step - loss: 0.0023 - val_loss: 1.5407\n",
            "Epoch 32/50\n",
            "18/18 [==============================] - 4s 198ms/step - loss: 0.0021 - val_loss: 1.5615\n",
            "Epoch 33/50\n",
            "18/18 [==============================] - 4s 196ms/step - loss: 0.0020 - val_loss: 1.5738\n",
            "Epoch 34/50\n",
            "18/18 [==============================] - 4s 196ms/step - loss: 0.0018 - val_loss: 1.5827\n",
            "Epoch 35/50\n",
            "18/18 [==============================] - 3s 195ms/step - loss: 0.0017 - val_loss: 1.5903\n",
            "Epoch 36/50\n",
            "18/18 [==============================] - 3s 195ms/step - loss: 0.0016 - val_loss: 1.6023\n",
            "Epoch 37/50\n",
            "18/18 [==============================] - 4s 195ms/step - loss: 0.0015 - val_loss: 1.6164\n",
            "Epoch 38/50\n",
            "18/18 [==============================] - 4s 199ms/step - loss: 0.0014 - val_loss: 1.6265\n",
            "Epoch 39/50\n",
            "18/18 [==============================] - 4s 199ms/step - loss: 0.0013 - val_loss: 1.6368\n",
            "Epoch 40/50\n",
            "18/18 [==============================] - 4s 198ms/step - loss: 0.0012 - val_loss: 1.6460\n",
            "Epoch 41/50\n",
            "18/18 [==============================] - 4s 196ms/step - loss: 0.0011 - val_loss: 1.6506\n",
            "Epoch 42/50\n",
            "18/18 [==============================] - 4s 196ms/step - loss: 0.0011 - val_loss: 1.6652\n",
            "Epoch 43/50\n",
            "18/18 [==============================] - 4s 246ms/step - loss: 9.9962e-04 - val_loss: 1.6726\n",
            "Epoch 44/50\n",
            "18/18 [==============================] - 3s 194ms/step - loss: 9.4550e-04 - val_loss: 1.6810\n",
            "Epoch 45/50\n",
            "18/18 [==============================] - 4s 195ms/step - loss: 8.9609e-04 - val_loss: 1.6884\n",
            "Epoch 46/50\n",
            "18/18 [==============================] - 4s 197ms/step - loss: 8.5033e-04 - val_loss: 1.6981\n",
            "Epoch 47/50\n",
            "18/18 [==============================] - 4s 196ms/step - loss: 8.0512e-04 - val_loss: 1.7041\n",
            "Epoch 48/50\n",
            "18/18 [==============================] - 4s 252ms/step - loss: 7.6176e-04 - val_loss: 1.7115\n",
            "Epoch 49/50\n",
            "18/18 [==============================] - 4s 195ms/step - loss: 7.2662e-04 - val_loss: 1.7170\n",
            "Epoch 50/50\n",
            "18/18 [==============================] - 3s 194ms/step - loss: 6.8919e-04 - val_loss: 1.7256\n"
          ]
        },
        {
          "output_type": "execute_result",
          "data": {
            "text/plain": [
              "<keras.callbacks.History at 0x7f35fca06090>"
            ]
          },
          "metadata": {},
          "execution_count": 38
        }
      ],
      "source": [
        "lstm = Sequential()\n",
        "lstm.add(Bidirectional(LSTM(768, return_sequences=False)))\n",
        "lstm.add(Dense(1, activation='sigmoid'))\n",
        "\n",
        "callback = EarlyStopping(monitor='val_loss', patience=7)\n",
        "\n",
        "# y_train = y_train.fillna(0).astype('int64')\n",
        "\n",
        "lstm.compile(loss='binary_crossentropy', optimizer='adam')\n",
        "lstm.fit(np.array(x_train_preprocessed).reshape([len(x_train_preprocessed),1,768]), y_train, validation_data=(np.array(x_valid_preprocessed).reshape([len(x_valid_preprocessed),1,768]), y_valid), epochs=50, batch_size=128, verbose=1, shuffle=True, callbacks=[callback])\n"
      ]
    },
    {
      "cell_type": "code",
      "execution_count": null,
      "metadata": {
        "id": "OSsTZltzrN1S",
        "colab": {
          "base_uri": "https://localhost:8080/"
        },
        "outputId": "ca2af70e-6e87-4177-f7c4-b3a1ae3f560a"
      },
      "outputs": [
        {
          "output_type": "stream",
          "name": "stdout",
          "text": [
            "146 277\n"
          ]
        }
      ],
      "source": [
        "import math\n",
        "\n",
        "predictions_lstm = lstm.predict(np.array(x_test_preprocessed).reshape([len(x_test_preprocessed),1,768]))\n",
        "\n",
        "print(sum([math.ceil(predictions_lstm[i]) == y_test[i] for i in range(len(x_test))]), len(x_test))"
      ]
    },
    {
      "cell_type": "code",
      "execution_count": null,
      "metadata": {
        "id": "LeE6_fEEuHF6",
        "colab": {
          "base_uri": "https://localhost:8080/",
          "height": 573
        },
        "outputId": "8c834a78-4ab5-4cca-e5b2-28d790ea437c"
      },
      "outputs": [
        {
          "output_type": "stream",
          "name": "stdout",
          "text": [
            "BERT, LSTM, substraction\n",
            "F-measure or f1-score:  0.690307328605201\n",
            "Log loss:  nan\n",
            "Log loss:  16.334600920565542\n",
            "AUC:  0.533253163233295\n",
            "AUC:  0.5\n",
            "Classification Report:\n",
            "              precision    recall  f1-score   support\n",
            "\n",
            "           1     0.5271    1.0000    0.6903       146\n",
            "           0     0.0000    0.0000    0.0000       131\n",
            "\n",
            "    accuracy                         0.5271       277\n",
            "   macro avg     0.2635    0.5000    0.3452       277\n",
            "weighted avg     0.2778    0.5271    0.3638       277\n",
            "\n"
          ]
        },
        {
          "output_type": "display_data",
          "data": {
            "text/plain": [
              "<Figure size 432x288 with 2 Axes>"
            ],
            "image/png": "[encoded data removed]"
          },
          "metadata": {
            "needs_background": "light"
          }
        }
      ],
      "source": [
        "# model evaluation\n",
        "\n",
        "print(\"BERT, LSTM, substraction\")\n",
        "print(\"F-measure or f1-score: \", f1_score(y_test, [math.ceil(predictions_lstm[i]) for i in range(len(predictions_lstm))]))\n",
        "print(\"Log loss: \", log_loss(y_test, predictions_lstm))\n",
        "print(\"Log loss: \", log_loss(y_test, [math.ceil(predictions_lstm[i]) for i in range(len(predictions_lstm))]))\n",
        "\n",
        "fpr, tpr, thresholds = roc_curve(y_test, predictions_lstm)\n",
        "\n",
        "print(\"AUC: \", auc(fpr, tpr))\n",
        "\n",
        "fpr, tpr, thresholds = roc_curve(y_test,[math.ceil(predictions_lstm[i]) for i in range(len(predictions_lstm))])\n",
        "\n",
        "print(\"AUC: \", auc(fpr, tpr))\n",
        "\n",
        "eval(y_test, [math.ceil(predictions_lstm[i]) for i in range(len(predictions_lstm))])\n",
        "\n",
        "\n"
      ]
    },
    {
      "cell_type": "markdown",
      "source": [
        "## **Representation addition**\n",
        "\n",
        "Assumprion: averaged addition of features of representation of two sentences might be enought to train classifiers how to distinguich one class from another."
      ],
      "metadata": {
        "id": "3GcLzvjsrPYQ"
      }
    },
    {
      "cell_type": "code",
      "source": [
        "sent1 = train_data.loc[:,'sentence1']\n",
        "sent2 = train_data.loc[:,'sentence2']\n",
        "x_train = [(sent1[i], sent2[i]) for i in range(train_data.shape[0])]\n",
        "y_train = train_data.loc[:,'label']\n",
        "sent1 = test_data.loc[:,'sentence1']\n",
        "sent2 = test_data.loc[:,'sentence2']\n",
        "x_test = [(sent1[i], sent2[i]) for i in range(test_data.shape[0])]\n",
        "y_test = test_data.loc[:,'label']"
      ],
      "metadata": {
        "id": "HBiNoWVV9HmS"
      },
      "execution_count": null,
      "outputs": []
    },
    {
      "cell_type": "code",
      "execution_count": null,
      "metadata": {
        "id": "IS8skFZ18ii1"
      },
      "outputs": [],
      "source": [
        "def find_similarity(sentences):\n",
        "  tokens = {'input_ids': [], 'attention_mask': []}\n",
        "\n",
        "  for sentence in sentences:\n",
        "      new_tokens = tokenizer.encode_plus(sentence, max_length=128,\n",
        "                                        truncation=True, padding='max_length',\n",
        "                                        return_tensors='pt')\n",
        "      tokens['input_ids'].append(new_tokens['input_ids'][0])\n",
        "      tokens['attention_mask'].append(new_tokens['attention_mask'][0])\n",
        "\n",
        "  tokens['input_ids'] = torch.stack(tokens['input_ids'])\n",
        "  tokens['attention_mask'] = torch.stack(tokens['attention_mask'])\n",
        "\n",
        "  outputs = model(**tokens)\n",
        "  embeddings = outputs.last_hidden_state\n",
        "\n",
        "  attention_mask = tokens['attention_mask']\n",
        "  mask = attention_mask.unsqueeze(-1).expand(embeddings.size()).float()\n",
        "  masked_embeddings = embeddings * mask\n",
        "  summed = torch.sum(masked_embeddings, 1)\n",
        "  summed_mask = torch.clamp(mask.sum(1), min=1e-9)\n",
        "  mean_pooled = summed / summed_mask\n",
        "\n",
        "\n",
        "  mean_pooled = mean_pooled.detach().numpy()\n",
        "\n",
        "  return (mean_pooled[0] + mean_pooled[1])/2"
      ]
    },
    {
      "cell_type": "code",
      "source": [
        "import tqdm\n",
        "\n",
        "x_train_preprocessed = [find_similarity(sent) for sent in tqdm.tqdm(x_train)]\n",
        "x_test_preprocessed = [find_similarity(sent) for sent in tqdm.tqdm(x_test)]"
      ],
      "metadata": {
        "id": "wq6oyJfY9cBR"
      },
      "execution_count": null,
      "outputs": []
    },
    {
      "cell_type": "code",
      "execution_count": null,
      "metadata": {
        "colab": {
          "base_uri": "https://localhost:8080/"
        },
        "outputId": "244c0846-9346-49fd-853a-a1a321097715",
        "id": "w0c60GhS8ii2"
      },
      "outputs": [
        {
          "output_type": "stream",
          "name": "stdout",
          "text": [
            "249\n",
            "2241\n",
            "249\n",
            "2241\n"
          ]
        }
      ],
      "source": [
        "size = 2241\n",
        "vector_size = 768\n",
        "\n",
        "x_valid_preprocessed = x_train_preprocessed[size:len(x_train)]\n",
        "x_train_preprocessed = x_train_preprocessed[0:size]\n",
        "\n",
        "y_valid = y_train[size:len(x_train)]\n",
        "y_train = y_train[0:size]\n",
        "\n",
        "print(len(x_valid_preprocessed))\n",
        "print(len(x_train_preprocessed))\n",
        "print(len(y_valid))\n",
        "print(len(y_train))"
      ]
    },
    {
      "cell_type": "code",
      "source": [
        "# y_train = train_data.loc[:,'label']\n",
        "# y_train = y_train[0:size]\n",
        "\n",
        "y_train = y_train.replace('not_entailment', 0)\n",
        "y_train = y_train.replace('entailment', 1)\n",
        "\n",
        "y_valid = y_valid.replace('not_entailment', 0)\n",
        "y_valid = y_valid.replace('entailment', 1)\n",
        "\n",
        "y_test = y_test.replace('not_entailment', 0)\n",
        "y_test = y_test.replace('entailment', 1)"
      ],
      "metadata": {
        "id": "hIlLqo1X8ii2"
      },
      "execution_count": null,
      "outputs": []
    },
    {
      "cell_type": "markdown",
      "source": [
        "### **General classifiers**"
      ],
      "metadata": {
        "id": "4ePZJChmQeKQ"
      }
    },
    {
      "cell_type": "code",
      "execution_count": null,
      "metadata": {
        "colab": {
          "base_uri": "https://localhost:8080/"
        },
        "outputId": "dce2d325-1942-4268-bf96-3dcbe5eb9880",
        "id": "JjOO_Dl68ii2"
      },
      "outputs": [
        {
          "output_type": "stream",
          "name": "stderr",
          "text": [
            "100%|██████████| 29/29 [02:07<00:00,  4.40s/it]"
          ]
        },
        {
          "output_type": "stream",
          "name": "stdout",
          "text": [
            "                               Accuracy  Balanced Accuracy  ROC AUC  F1 Score  \\\n",
            "Model                                                                           \n",
            "LGBMClassifier                     0.58               0.58     0.58      0.58   \n",
            "NuSVC                              0.58               0.58     0.58      0.58   \n",
            "XGBClassifier                      0.57               0.57     0.57      0.57   \n",
            "SVC                                0.57               0.57     0.57      0.57   \n",
            "RandomForestClassifier             0.57               0.57     0.57      0.57   \n",
            "NearestCentroid                    0.56               0.56     0.56      0.56   \n",
            "QuadraticDiscriminantAnalysis      0.55               0.55     0.55      0.55   \n",
            "BernoulliNB                        0.55               0.55     0.55      0.55   \n",
            "GaussianNB                         0.55               0.55     0.55      0.55   \n",
            "AdaBoostClassifier                 0.55               0.55     0.55      0.55   \n",
            "ExtraTreesClassifier               0.55               0.55     0.55      0.54   \n",
            "SGDClassifier                      0.54               0.54     0.54      0.54   \n",
            "DecisionTreeClassifier             0.54               0.54     0.54      0.54   \n",
            "KNeighborsClassifier               0.54               0.54     0.54      0.53   \n",
            "BaggingClassifier                  0.53               0.53     0.53      0.52   \n",
            "Perceptron                         0.53               0.53     0.53      0.53   \n",
            "ExtraTreeClassifier                0.53               0.53     0.53      0.53   \n",
            "PassiveAggressiveClassifier        0.53               0.53     0.53      0.53   \n",
            "LinearSVC                          0.51               0.51     0.51      0.51   \n",
            "RidgeClassifierCV                  0.51               0.51     0.51      0.51   \n",
            "LogisticRegression                 0.51               0.51     0.51      0.51   \n",
            "LabelSpreading                     0.51               0.50     0.50      0.34   \n",
            "LabelPropagation                   0.51               0.50     0.50      0.34   \n",
            "CalibratedClassifierCV             0.50               0.50     0.50      0.50   \n",
            "RidgeClassifier                    0.48               0.48     0.48      0.48   \n",
            "LinearDiscriminantAnalysis         0.48               0.48     0.48      0.48   \n",
            "DummyClassifier                    0.47               0.47     0.47      0.47   \n",
            "\n",
            "                               Time Taken  \n",
            "Model                                      \n",
            "LGBMClassifier                      20.24  \n",
            "NuSVC                                7.22  \n",
            "XGBClassifier                       25.84  \n",
            "SVC                                  6.98  \n",
            "RandomForestClassifier               5.37  \n",
            "NearestCentroid                      0.14  \n",
            "QuadraticDiscriminantAnalysis        1.25  \n",
            "BernoulliNB                          0.14  \n",
            "GaussianNB                           0.10  \n",
            "AdaBoostClassifier                  12.55  \n",
            "ExtraTreesClassifier                 1.45  \n",
            "SGDClassifier                        0.55  \n",
            "DecisionTreeClassifier               2.49  \n",
            "KNeighborsClassifier                 1.31  \n",
            "BaggingClassifier                   14.74  \n",
            "Perceptron                           0.18  \n",
            "ExtraTreeClassifier                  0.10  \n",
            "PassiveAggressiveClassifier          0.32  \n",
            "LinearSVC                            4.96  \n",
            "RidgeClassifierCV                    0.99  \n",
            "LogisticRegression                   0.38  \n",
            "LabelSpreading                       0.73  \n",
            "LabelPropagation                     0.68  \n",
            "CalibratedClassifierCV              17.33  \n",
            "RidgeClassifier                      0.15  \n",
            "LinearDiscriminantAnalysis           1.07  \n",
            "DummyClassifier                      0.09  \n"
          ]
        },
        {
          "output_type": "stream",
          "name": "stderr",
          "text": [
            "\n"
          ]
        }
      ],
      "source": [
        "from lazypredict.Supervised import LazyClassifier\n",
        "import numpy as np\n",
        "\n",
        "\n",
        "clf = LazyClassifier(verbose=0,ignore_warnings=True, custom_metric=None)\n",
        "#models,predictions = clf.fit(df_train, df_test, y_train, y_test)\n",
        "models,predictions = clf.fit(np.array(x_train_preprocessed).reshape([len(x_train_preprocessed),vector_size]), np.array(x_valid_preprocessed).reshape([len(x_valid_preprocessed),vector_size]), y_train.fillna(0).astype('int64'), y_valid)\n",
        "\n",
        "\n",
        "print(models)"
      ]
    },
    {
      "cell_type": "code",
      "execution_count": null,
      "metadata": {
        "colab": {
          "base_uri": "https://localhost:8080/"
        },
        "outputId": "610cb10d-4c90-48f2-9ebf-e2bc560bc526",
        "id": "OPKtCd5u8ii2"
      },
      "outputs": [
        {
          "output_type": "stream",
          "name": "stdout",
          "text": [
            "138 277\n"
          ]
        }
      ],
      "source": [
        "models = clf.provide_models(np.array(x_train_preprocessed).reshape([len(x_train_preprocessed),vector_size]), np.array(x_valid_preprocessed).reshape([len(x_valid_preprocessed),vector_size]), y_train.fillna(0).astype('int64'), y_valid)\n",
        "predictions = models['NuSVC'].predict(np.array(x_test_preprocessed).reshape([len(x_test_preprocessed),vector_size]))\n",
        "\n",
        "print(sum([predictions[i] == y_test[i] for i in range(len(x_test))]), len(x_test))"
      ]
    },
    {
      "cell_type": "code",
      "execution_count": null,
      "metadata": {
        "colab": {
          "base_uri": "https://localhost:8080/",
          "height": 538
        },
        "outputId": "322b7287-c1f9-42ad-f979-7754b13dd607",
        "id": "mkSxUzGe8ii3"
      },
      "outputs": [
        {
          "output_type": "stream",
          "name": "stdout",
          "text": [
            "BERT, best general classifier, substraction\n",
            "F-measure or f1-score:  0.5156794425087109\n",
            "Log loss:  17.33192596361158\n",
            "AUC:  0.497699466694552\n",
            "Classification Report:\n",
            "              precision    recall  f1-score   support\n",
            "\n",
            "           1     0.5248    0.5068    0.5157       146\n",
            "           0     0.4706    0.4885    0.4794       131\n",
            "\n",
            "    accuracy                         0.4982       277\n",
            "   macro avg     0.4977    0.4977    0.4975       277\n",
            "weighted avg     0.4992    0.4982    0.4985       277\n",
            "\n"
          ]
        },
        {
          "output_type": "display_data",
          "data": {
            "text/plain": [
              "<Figure size 432x288 with 2 Axes>"
            ],
            "image/png": "[encoded data removed]"
          },
          "metadata": {
            "needs_background": "light"
          }
        }
      ],
      "source": [
        "from sklearn.metrics import log_loss, f1_score, roc_curve, auc\n",
        "from sklearn.metrics import accuracy_score, classification_report, confusion_matrix\n",
        "import matplotlib.pyplot as plt\n",
        "import seaborn as sns\n",
        "\n",
        "def eval(y_true, y_pred):\n",
        "    print('Classification Report:')\n",
        "    print(classification_report(y_true, y_pred, labels=[1,0], digits=4))\n",
        "\n",
        "    cm = confusion_matrix(y_true, y_pred, labels=[1,0])\n",
        "    ax= plt.subplot()\n",
        "    sns.heatmap(cm, annot=True, ax = ax, cmap='Blues', fmt=\"d\")\n",
        "\n",
        "    ax.set_title('Confusion Matrix')\n",
        "\n",
        "    ax.set_xlabel('Predicted Labels')\n",
        "    ax.set_ylabel('True Labels')\n",
        "\n",
        "    ax.xaxis.set_ticklabels(['FAKE', 'REAL'])\n",
        "    ax.yaxis.set_ticklabels(['FAKE', 'REAL'])\n",
        "# model evaluation\n",
        "\n",
        "print(\"BERT, best general classifier, substraction\")\n",
        "print(\"F-measure or f1-score: \", f1_score(y_test, predictions))\n",
        "print(\"Log loss: \", log_loss(y_test, predictions))\n",
        "\n",
        "fpr, tpr, thresholds = roc_curve(y_test, predictions)\n",
        "\n",
        "print(\"AUC: \", auc(fpr, tpr))\n",
        "\n",
        "eval(y_test, predictions)"
      ]
    },
    {
      "cell_type": "markdown",
      "metadata": {
        "id": "C1g_YFil8ii3"
      },
      "source": [
        "### **LSTM**"
      ]
    },
    {
      "cell_type": "code",
      "execution_count": null,
      "metadata": {
        "id": "c3sXLcKk8ii3"
      },
      "outputs": [],
      "source": [
        "import pandas as pd\n",
        "import numpy as np\n",
        "from keras.models import Sequential\n",
        "from keras.layers import LSTM, Dense, Dropout\n",
        "from keras.callbacks import EarlyStopping, ModelCheckpoint\n",
        "from matplotlib import pyplot\n",
        "from keras.layers import Bidirectional"
      ]
    },
    {
      "cell_type": "code",
      "execution_count": null,
      "metadata": {
        "colab": {
          "base_uri": "https://localhost:8080/"
        },
        "outputId": "3a3a2a4c-55e4-4410-8420-3e594fe24aa2",
        "id": "aI7kC5pc8ii3"
      },
      "outputs": [
        {
          "output_type": "stream",
          "name": "stdout",
          "text": [
            "Epoch 1/50\n",
            "18/18 [==============================] - 13s 239ms/step - loss: 0.7282 - val_loss: 0.6941\n",
            "Epoch 2/50\n",
            "18/18 [==============================] - 3s 187ms/step - loss: 0.6723 - val_loss: 0.6902\n",
            "Epoch 3/50\n",
            "18/18 [==============================] - 3s 186ms/step - loss: 0.6573 - val_loss: 0.7049\n",
            "Epoch 4/50\n",
            "18/18 [==============================] - 3s 191ms/step - loss: 0.6422 - val_loss: 0.7118\n",
            "Epoch 5/50\n",
            "18/18 [==============================] - 3s 188ms/step - loss: 0.6147 - val_loss: 0.7134\n",
            "Epoch 6/50\n",
            "18/18 [==============================] - 3s 187ms/step - loss: 0.5707 - val_loss: 0.7867\n",
            "Epoch 7/50\n",
            "18/18 [==============================] - 3s 188ms/step - loss: 0.5413 - val_loss: 0.7786\n",
            "Epoch 8/50\n",
            "18/18 [==============================] - 4s 198ms/step - loss: 0.4975 - val_loss: 0.7803\n",
            "Epoch 9/50\n",
            "18/18 [==============================] - 5s 276ms/step - loss: 0.4483 - val_loss: 0.8439\n"
          ]
        },
        {
          "output_type": "execute_result",
          "data": {
            "text/plain": [
              "<keras.callbacks.History at 0x7f35f927cf90>"
            ]
          },
          "metadata": {},
          "execution_count": 56
        }
      ],
      "source": [
        "lstm = Sequential()\n",
        "lstm.add(Bidirectional(LSTM(768, return_sequences=False)))\n",
        "lstm.add(Dense(1, activation='sigmoid'))\n",
        "\n",
        "callback = EarlyStopping(monitor='val_loss', patience=7)\n",
        "\n",
        "y_train = y_train.fillna(0).astype('int64')\n",
        "\n",
        "lstm.compile(loss='binary_crossentropy', optimizer='adam')\n",
        "lstm.fit(np.array(x_train_preprocessed).reshape([len(x_train_preprocessed),1,768]), y_train, validation_data=(np.array(x_valid_preprocessed).reshape([len(x_valid_preprocessed),1,768]), y_valid), epochs=50, batch_size=128, verbose=1, shuffle=True, callbacks=[callback])\n"
      ]
    },
    {
      "cell_type": "code",
      "execution_count": null,
      "metadata": {
        "colab": {
          "base_uri": "https://localhost:8080/"
        },
        "outputId": "b41293cf-f560-492b-ac2b-7024b47e26ba",
        "id": "KOR8-TbD8ii4"
      },
      "outputs": [
        {
          "output_type": "stream",
          "name": "stderr",
          "text": [
            "\r  0%|          | 3/2490 [1:20:50<1116:59:25, 1616.87s/it]\n"
          ]
        },
        {
          "output_type": "stream",
          "name": "stdout",
          "text": [
            "146 277\n"
          ]
        }
      ],
      "source": [
        "import math\n",
        "\n",
        "predictions_lstm = lstm.predict(np.array(x_test_preprocessed).reshape([len(x_test_preprocessed),1,768]))\n",
        "\n",
        "print(sum([math.ceil(predictions_lstm[i]) == y_test[i] for i in range(len(x_test))]), len(x_test))"
      ]
    },
    {
      "cell_type": "code",
      "execution_count": null,
      "metadata": {
        "colab": {
          "base_uri": "https://localhost:8080/",
          "height": 573
        },
        "outputId": "3c716874-ecae-4fbf-d669-ebfe5d32cfbf",
        "id": "vPkAIXI88ii4"
      },
      "outputs": [
        {
          "output_type": "stream",
          "name": "stdout",
          "text": [
            "BERT, LSTM, addition\n",
            "F-measure or f1-score:  0.690307328605201\n",
            "Log loss:  0.9303825712756049\n",
            "Log loss:  16.334600920565542\n",
            "AUC:  0.5174108543344139\n",
            "AUC:  0.5\n",
            "Classification Report:\n",
            "              precision    recall  f1-score   support\n",
            "\n",
            "           1     0.5271    1.0000    0.6903       146\n",
            "           0     0.0000    0.0000    0.0000       131\n",
            "\n",
            "    accuracy                         0.5271       277\n",
            "   macro avg     0.2635    0.5000    0.3452       277\n",
            "weighted avg     0.2778    0.5271    0.3638       277\n",
            "\n"
          ]
        },
        {
          "output_type": "display_data",
          "data": {
            "text/plain": [
              "<Figure size 432x288 with 2 Axes>"
            ],
            "image/png": "[encoded data removed]"
          },
          "metadata": {
            "needs_background": "light"
          }
        }
      ],
      "source": [
        "# model evaluation\n",
        "\n",
        "print(\"BERT, LSTM, addition\")\n",
        "print(\"F-measure or f1-score: \", f1_score(y_test, [math.ceil(predictions_lstm[i]) for i in range(len(predictions_lstm))]))\n",
        "print(\"Log loss: \", log_loss(y_test, predictions_lstm))\n",
        "print(\"Log loss: \", log_loss(y_test, [math.ceil(predictions_lstm[i]) for i in range(len(predictions_lstm))]))\n",
        "\n",
        "fpr, tpr, thresholds = roc_curve(y_test, predictions_lstm)\n",
        "\n",
        "print(\"AUC: \", auc(fpr, tpr))\n",
        "\n",
        "fpr, tpr, thresholds = roc_curve(y_test,[math.ceil(predictions_lstm[i]) for i in range(len(predictions_lstm))])\n",
        "\n",
        "print(\"AUC: \", auc(fpr, tpr))\n",
        "\n",
        "eval(y_test, [math.ceil(predictions_lstm[i]) for i in range(len(predictions_lstm))])\n",
        "\n",
        "\n"
      ]
    },
    {
      "cell_type": "markdown",
      "source": [
        "## **Representation concatination**\n",
        "\n",
        "Assumprion: concatination of features of representation of two sentences might be sufficient to train classifiers how to distinguich one class from another."
      ],
      "metadata": {
        "id": "07ECGFvVQ9rE"
      }
    },
    {
      "cell_type": "code",
      "source": [
        "sent1 = train_data.loc[:,'sentence1']\n",
        "sent2 = train_data.loc[:,'sentence2']\n",
        "x_train = [(sent1[i], sent2[i]) for i in range(train_data.shape[0])]\n",
        "y_train = train_data.loc[:,'label']\n",
        "sent1 = test_data.loc[:,'sentence1']\n",
        "sent2 = test_data.loc[:,'sentence2']\n",
        "x_test = [(sent1[i], sent2[i]) for i in range(test_data.shape[0])]\n",
        "y_test = test_data.loc[:,'label']"
      ],
      "metadata": {
        "id": "7IZwUJChQ9rF"
      },
      "execution_count": null,
      "outputs": []
    },
    {
      "cell_type": "code",
      "execution_count": null,
      "metadata": {
        "id": "HkK0zQdQQ9rG"
      },
      "outputs": [],
      "source": [
        "def find_similarity(sentences):\n",
        "  tokens = {'input_ids': [], 'attention_mask': []}\n",
        "\n",
        "  for sentence in sentences:\n",
        "      new_tokens = tokenizer.encode_plus(sentence, max_length=128,\n",
        "                                        truncation=True, padding='max_length',\n",
        "                                        return_tensors='pt')\n",
        "      tokens['input_ids'].append(new_tokens['input_ids'][0])\n",
        "      tokens['attention_mask'].append(new_tokens['attention_mask'][0])\n",
        "\n",
        "  tokens['input_ids'] = torch.stack(tokens['input_ids'])\n",
        "  tokens['attention_mask'] = torch.stack(tokens['attention_mask'])\n",
        "\n",
        "  outputs = model(**tokens)\n",
        "  embeddings = outputs.last_hidden_state\n",
        "\n",
        "  attention_mask = tokens['attention_mask']\n",
        "  mask = attention_mask.unsqueeze(-1).expand(embeddings.size()).float()\n",
        "  masked_embeddings = embeddings * mask\n",
        "  summed = torch.sum(masked_embeddings, 1)\n",
        "  summed_mask = torch.clamp(mask.sum(1), min=1e-9)\n",
        "  mean_pooled = summed / summed_mask\n",
        "\n",
        "\n",
        "  mean_pooled = mean_pooled.detach().numpy()\n",
        "\n",
        "  return mean_pooled"
      ]
    },
    {
      "cell_type": "code",
      "source": [
        "import tqdm\n",
        "\n",
        "x_train_preprocessed = [find_similarity(sent) for sent in tqdm.tqdm(x_train)]\n",
        "x_test_preprocessed = [find_similarity(sent) for sent in tqdm.tqdm(x_test)]"
      ],
      "metadata": {
        "id": "vTtBe35kQ9rK"
      },
      "execution_count": null,
      "outputs": []
    },
    {
      "cell_type": "code",
      "source": [
        "print(len(x_train_preprocessed))\n",
        "print(x_train_preprocessed[0].flatten().shape)\n",
        "\n",
        "# temp = x_train_preprocessed\n",
        "# temp_test = x_test_preprocessed\n",
        "\n",
        "\n",
        "x_train_preprocessed = [x.flatten() for x in x_train_preprocessed]\n",
        "x_test_preprocessed = [x.flatten() for x in x_test_preprocessed]"
      ],
      "metadata": {
        "colab": {
          "base_uri": "https://localhost:8080/"
        },
        "id": "jIXJR42vkNUv",
        "outputId": "ada20f89-59d1-432f-d790-70ebcaa2069e"
      },
      "execution_count": null,
      "outputs": [
        {
          "output_type": "stream",
          "name": "stdout",
          "text": [
            "2490\n",
            "(1536,)\n"
          ]
        }
      ]
    },
    {
      "cell_type": "code",
      "execution_count": null,
      "metadata": {
        "colab": {
          "base_uri": "https://localhost:8080/"
        },
        "outputId": "e33904f4-2d19-4c91-9895-c676f712162e",
        "id": "54sqaSXYQ9rM"
      },
      "outputs": [
        {
          "output_type": "stream",
          "name": "stdout",
          "text": [
            "249\n",
            "2241\n",
            "249\n",
            "2241\n"
          ]
        }
      ],
      "source": [
        "size = 2241\n",
        "vector_size = 1536\n",
        "\n",
        "x_valid_preprocessed = x_train_preprocessed[size:len(x_train)]\n",
        "x_train_preprocessed = x_train_preprocessed[0:size]\n",
        "\n",
        "y_valid = y_train[size:len(x_train)]\n",
        "y_train = y_train[0:size]\n",
        "\n",
        "print(len(x_valid_preprocessed))\n",
        "print(len(x_train_preprocessed))\n",
        "print(len(y_valid))\n",
        "print(len(y_train))"
      ]
    },
    {
      "cell_type": "code",
      "source": [
        "# y_train = train_data.loc[:,'label']\n",
        "# y_train = y_train[0:size]\n",
        "\n",
        "y_train = y_train.replace('not_entailment', 0)\n",
        "y_train = y_train.replace('entailment', 1)\n",
        "\n",
        "y_valid = y_valid.replace('not_entailment', 0)\n",
        "y_valid = y_valid.replace('entailment', 1)\n",
        "\n",
        "y_test = y_test.replace('not_entailment', 0)\n",
        "y_test = y_test.replace('entailment', 1)"
      ],
      "metadata": {
        "id": "elsOG6K4Q9rN"
      },
      "execution_count": null,
      "outputs": []
    },
    {
      "cell_type": "markdown",
      "source": [
        "### **General classifiers**"
      ],
      "metadata": {
        "id": "YoIGAe-jQ9rO"
      }
    },
    {
      "cell_type": "code",
      "execution_count": null,
      "metadata": {
        "colab": {
          "base_uri": "https://localhost:8080/"
        },
        "outputId": "5ed0d4e9-a027-4026-e2a3-37059b06acf9",
        "id": "z9OwMuecQ9rO"
      },
      "outputs": [
        {
          "output_type": "stream",
          "name": "stderr",
          "text": [
            "\n",
            "  0%|          | 0/29 [00:00<?, ?it/s]\u001b[A\n",
            "  3%|▎         | 1/29 [00:22<10:41, 22.91s/it]\u001b[A\n",
            "  7%|▋         | 2/29 [00:49<11:22, 25.29s/it]\u001b[A\n",
            " 10%|█         | 3/29 [00:50<06:00, 13.87s/it]\u001b[A\n",
            " 14%|█▍        | 4/29 [01:19<08:16, 19.84s/it]\u001b[A\n",
            " 17%|█▋        | 5/29 [01:19<05:06, 12.76s/it]\u001b[A\n",
            " 21%|██        | 6/29 [01:23<03:49,  9.99s/it]\u001b[A\n",
            " 24%|██▍       | 7/29 [01:24<02:29,  6.79s/it]\u001b[A\n",
            " 28%|██▊       | 8/29 [01:24<01:38,  4.69s/it]\u001b[A\n",
            " 31%|███       | 9/29 [01:26<01:17,  3.86s/it]\u001b[A\n",
            " 34%|███▍      | 10/29 [01:26<00:51,  2.73s/it]\u001b[A\n",
            " 38%|███▊      | 11/29 [01:29<00:48,  2.69s/it]\u001b[A\n",
            " 41%|████▏     | 12/29 [01:30<00:36,  2.17s/it]\u001b[A\n",
            " 45%|████▍     | 13/29 [01:31<00:29,  1.84s/it]\u001b[A\n",
            " 48%|████▊     | 14/29 [01:35<00:39,  2.65s/it]\u001b[A\n",
            " 52%|█████▏    | 15/29 [01:43<00:57,  4.12s/it]\u001b[A\n",
            " 55%|█████▌    | 16/29 [01:43<00:40,  3.09s/it]\u001b[A\n",
            " 59%|█████▊    | 17/29 [01:44<00:26,  2.23s/it]\u001b[A\n",
            " 62%|██████▏   | 18/29 [01:58<01:04,  5.89s/it]\u001b[A\n",
            " 66%|██████▌   | 19/29 [01:59<00:43,  4.38s/it]\u001b[A\n",
            " 69%|██████▉   | 20/29 [02:00<00:29,  3.25s/it]\u001b[A\n",
            " 72%|███████▏  | 21/29 [02:03<00:25,  3.22s/it]\u001b[A\n",
            " 76%|███████▌  | 22/29 [02:10<00:30,  4.39s/it]\u001b[A\n",
            " 79%|███████▉  | 23/29 [02:10<00:19,  3.19s/it]\u001b[A\n",
            " 83%|████████▎ | 24/29 [02:14<00:17,  3.43s/it]\u001b[A\n",
            " 86%|████████▌ | 25/29 [02:15<00:11,  2.75s/it]\u001b[A\n",
            " 90%|████████▉ | 26/29 [02:30<00:18,  6.17s/it]\u001b[A\n",
            " 97%|█████████▋| 28/29 [03:18<00:14, 14.51s/it]\u001b[A\n",
            "100%|██████████| 29/29 [03:58<00:00,  8.22s/it]"
          ]
        },
        {
          "output_type": "stream",
          "name": "stdout",
          "text": [
            "                               Accuracy  Balanced Accuracy  ROC AUC  F1 Score  \\\n",
            "Model                                                                           \n",
            "SVC                                0.62               0.62     0.62      0.62   \n",
            "NuSVC                              0.61               0.61     0.61      0.61   \n",
            "ExtraTreesClassifier               0.61               0.61     0.61      0.61   \n",
            "SGDClassifier                      0.61               0.61     0.61      0.61   \n",
            "LogisticRegression                 0.61               0.61     0.61      0.61   \n",
            "GaussianNB                         0.60               0.60     0.60      0.60   \n",
            "KNeighborsClassifier               0.59               0.59     0.59      0.59   \n",
            "NearestCentroid                    0.59               0.59     0.59      0.59   \n",
            "Perceptron                         0.58               0.58     0.58      0.58   \n",
            "BernoulliNB                        0.58               0.58     0.58      0.58   \n",
            "CalibratedClassifierCV             0.57               0.57     0.57      0.57   \n",
            "LinearSVC                          0.57               0.57     0.57      0.57   \n",
            "ExtraTreeClassifier                0.57               0.57     0.57      0.57   \n",
            "RandomForestClassifier             0.57               0.57     0.57      0.57   \n",
            "XGBClassifier                      0.57               0.57     0.57      0.57   \n",
            "PassiveAggressiveClassifier        0.56               0.56     0.56      0.56   \n",
            "DecisionTreeClassifier             0.55               0.55     0.55      0.55   \n",
            "LGBMClassifier                     0.55               0.55     0.55      0.55   \n",
            "BaggingClassifier                  0.54               0.54     0.54      0.54   \n",
            "LinearDiscriminantAnalysis         0.51               0.51     0.51      0.51   \n",
            "RidgeClassifierCV                  0.51               0.51     0.51      0.51   \n",
            "QuadraticDiscriminantAnalysis      0.49               0.50     0.50      0.33   \n",
            "LabelSpreading                     0.51               0.50     0.50      0.34   \n",
            "LabelPropagation                   0.51               0.50     0.50      0.34   \n",
            "AdaBoostClassifier                 0.50               0.50     0.50      0.50   \n",
            "RidgeClassifier                    0.49               0.49     0.49      0.49   \n",
            "DummyClassifier                    0.47               0.47     0.47      0.47   \n",
            "\n",
            "                               Time Taken  \n",
            "Model                                      \n",
            "SVC                                 14.13  \n",
            "NuSVC                               14.40  \n",
            "ExtraTreesClassifier                 2.05  \n",
            "SGDClassifier                        1.15  \n",
            "LogisticRegression                   0.69  \n",
            "GaussianNB                           0.19  \n",
            "KNeighborsClassifier                 2.60  \n",
            "NearestCentroid                      0.21  \n",
            "Perceptron                           0.60  \n",
            "BernoulliNB                          0.27  \n",
            "CalibratedClassifierCV              29.00  \n",
            "LinearSVC                            7.52  \n",
            "ExtraTreeClassifier                  0.19  \n",
            "RandomForestClassifier               7.11  \n",
            "XGBClassifier                       48.49  \n",
            "PassiveAggressiveClassifier          0.86  \n",
            "DecisionTreeClassifier               4.61  \n",
            "LGBMClassifier                      39.88  \n",
            "BaggingClassifier                   26.94  \n",
            "LinearDiscriminantAnalysis           4.52  \n",
            "RidgeClassifierCV                    3.99  \n",
            "QuadraticDiscriminantAnalysis        3.14  \n",
            "LabelSpreading                       1.05  \n",
            "LabelPropagation                     0.98  \n",
            "AdaBoostClassifier                  22.91  \n",
            "RidgeClassifier                      0.39  \n",
            "DummyClassifier                      0.17  \n"
          ]
        },
        {
          "output_type": "stream",
          "name": "stderr",
          "text": [
            "\n"
          ]
        }
      ],
      "source": [
        "from lazypredict.Supervised import LazyClassifier\n",
        "import numpy as np\n",
        "\n",
        "\n",
        "clf = LazyClassifier(verbose=0,ignore_warnings=True, custom_metric=None)\n",
        "#models,predictions = clf.fit(df_train, df_test, y_train, y_test)\n",
        "models,predictions = clf.fit(np.array(x_train_preprocessed).reshape([len(x_train_preprocessed),vector_size]), np.array(x_valid_preprocessed).reshape([len(x_valid_preprocessed),vector_size]), y_train.fillna(0).astype('int64'), y_valid)\n",
        "\n",
        "\n",
        "print(models)"
      ]
    },
    {
      "cell_type": "code",
      "execution_count": null,
      "metadata": {
        "colab": {
          "base_uri": "https://localhost:8080/"
        },
        "outputId": "bb1e908e-2db6-4f70-dbb6-450eb1335594",
        "id": "AluW4MX2Q9rP"
      },
      "outputs": [
        {
          "output_type": "stream",
          "name": "stdout",
          "text": [
            "149 277\n"
          ]
        }
      ],
      "source": [
        "models = clf.provide_models(np.array(x_train_preprocessed).reshape([len(x_train_preprocessed),vector_size]), np.array(x_valid_preprocessed).reshape([len(x_valid_preprocessed),vector_size]), y_train.fillna(0).astype('int64'), y_valid)\n",
        "predictions = models['SVC'].predict(np.array(x_test_preprocessed).reshape([len(x_test_preprocessed),vector_size]))\n",
        "\n",
        "print(sum([predictions[i] == y_test[i] for i in range(len(x_test))]), len(x_test))"
      ]
    },
    {
      "cell_type": "code",
      "execution_count": null,
      "metadata": {
        "colab": {
          "base_uri": "https://localhost:8080/",
          "height": 538
        },
        "outputId": "41ff6a10-4d75-498e-b5bc-51f1b149d9a7",
        "id": "_nzri5PyQ9rQ"
      },
      "outputs": [
        {
          "output_type": "stream",
          "name": "stdout",
          "text": [
            "BERT, best general classifier, substraction\n",
            "F-measure or f1-score:  0.5555555555555555\n",
            "Log loss:  15.960335572524329\n",
            "AUC:  0.5373313813656801\n",
            "Classification Report:\n",
            "              precision    recall  f1-score   support\n",
            "\n",
            "           1     0.5634    0.5479    0.5556       146\n",
            "           0     0.5111    0.5267    0.5188       131\n",
            "\n",
            "    accuracy                         0.5379       277\n",
            "   macro avg     0.5372    0.5373    0.5372       277\n",
            "weighted avg     0.5387    0.5379    0.5382       277\n",
            "\n"
          ]
        },
        {
          "output_type": "display_data",
          "data": {
            "text/plain": [
              "<Figure size 432x288 with 2 Axes>"
            ],
            "image/png": "[encoded data removed]"
          },
          "metadata": {
            "needs_background": "light"
          }
        }
      ],
      "source": [
        "from sklearn.metrics import log_loss, f1_score, roc_curve, auc\n",
        "from sklearn.metrics import accuracy_score, classification_report, confusion_matrix\n",
        "import matplotlib.pyplot as plt\n",
        "import seaborn as sns\n",
        "\n",
        "def eval(y_true, y_pred):\n",
        "    print('Classification Report:')\n",
        "    print(classification_report(y_true, y_pred, labels=[1,0], digits=4))\n",
        "\n",
        "    cm = confusion_matrix(y_true, y_pred, labels=[1,0])\n",
        "    ax= plt.subplot()\n",
        "    sns.heatmap(cm, annot=True, ax = ax, cmap='Blues', fmt=\"d\")\n",
        "\n",
        "    ax.set_title('Confusion Matrix')\n",
        "\n",
        "    ax.set_xlabel('Predicted Labels')\n",
        "    ax.set_ylabel('True Labels')\n",
        "\n",
        "    ax.xaxis.set_ticklabels(['FAKE', 'REAL'])\n",
        "    ax.yaxis.set_ticklabels(['FAKE', 'REAL'])\n",
        "# model evaluation\n",
        "\n",
        "print(\"BERT, best general classifier, substraction\")\n",
        "print(\"F-measure or f1-score: \", f1_score(y_test, predictions))\n",
        "print(\"Log loss: \", log_loss(y_test, predictions))\n",
        "\n",
        "fpr, tpr, thresholds = roc_curve(y_test, predictions)\n",
        "\n",
        "print(\"AUC: \", auc(fpr, tpr))\n",
        "\n",
        "eval(y_test, predictions)"
      ]
    },
    {
      "cell_type": "markdown",
      "metadata": {
        "id": "q6waXBL7Q9rR"
      },
      "source": [
        "### **LSTM**"
      ]
    },
    {
      "cell_type": "code",
      "execution_count": null,
      "metadata": {
        "id": "gC3ymZywQ9rR"
      },
      "outputs": [],
      "source": [
        "import pandas as pd\n",
        "import numpy as np\n",
        "from keras.models import Sequential\n",
        "from keras.layers import LSTM, Dense, Dropout\n",
        "from keras.callbacks import EarlyStopping, ModelCheckpoint\n",
        "from matplotlib import pyplot\n",
        "from keras.layers import Bidirectional"
      ]
    },
    {
      "cell_type": "code",
      "execution_count": null,
      "metadata": {
        "colab": {
          "base_uri": "https://localhost:8080/"
        },
        "outputId": "97b43d37-0e19-4792-e03a-da0e195efb45",
        "id": "6eWb4Nq5Q9rS"
      },
      "outputs": [
        {
          "output_type": "stream",
          "name": "stdout",
          "text": [
            "Epoch 1/50\n",
            "18/18 [==============================] - 10s 292ms/step - loss: 0.7597 - val_loss: 0.6913\n",
            "Epoch 2/50\n",
            "18/18 [==============================] - 4s 237ms/step - loss: 0.6800 - val_loss: 0.6856\n",
            "Epoch 3/50\n",
            "18/18 [==============================] - 4s 240ms/step - loss: 0.6560 - val_loss: 0.6818\n",
            "Epoch 4/50\n",
            "18/18 [==============================] - 4s 237ms/step - loss: 0.6115 - val_loss: 0.6765\n",
            "Epoch 5/50\n",
            "18/18 [==============================] - 4s 240ms/step - loss: 0.5424 - val_loss: 0.7306\n",
            "Epoch 6/50\n",
            "18/18 [==============================] - 4s 240ms/step - loss: 0.4560 - val_loss: 0.7386\n",
            "Epoch 7/50\n",
            "18/18 [==============================] - 4s 238ms/step - loss: 0.3703 - val_loss: 0.7873\n",
            "Epoch 8/50\n",
            "18/18 [==============================] - 4s 241ms/step - loss: 0.2730 - val_loss: 0.8043\n",
            "Epoch 9/50\n",
            "18/18 [==============================] - 4s 238ms/step - loss: 0.2034 - val_loss: 0.8580\n",
            "Epoch 10/50\n",
            "18/18 [==============================] - 4s 239ms/step - loss: 0.1607 - val_loss: 0.9032\n",
            "Epoch 11/50\n",
            "18/18 [==============================] - 4s 239ms/step - loss: 0.0968 - val_loss: 0.9398\n"
          ]
        },
        {
          "output_type": "execute_result",
          "data": {
            "text/plain": [
              "<keras.callbacks.History at 0x7f35f6c73050>"
            ]
          },
          "metadata": {},
          "execution_count": 82
        }
      ],
      "source": [
        "lstm = Sequential()\n",
        "lstm.add(Bidirectional(LSTM(768, return_sequences=False)))\n",
        "lstm.add(Dense(1, activation='sigmoid'))\n",
        "\n",
        "callback = EarlyStopping(monitor='val_loss', patience=7)\n",
        "\n",
        "y_train = y_train.fillna(0).astype('int64')\n",
        "\n",
        "lstm.compile(loss='binary_crossentropy', optimizer='adam')\n",
        "lstm.fit(np.array(x_train_preprocessed).reshape([len(x_train_preprocessed),1,vector_size]), y_train, validation_data=(np.array(x_valid_preprocessed).reshape([len(x_valid_preprocessed),1,vector_size]), y_valid), epochs=50, batch_size=128, verbose=1, shuffle=True, callbacks=[callback])\n"
      ]
    },
    {
      "cell_type": "code",
      "execution_count": null,
      "metadata": {
        "colab": {
          "base_uri": "https://localhost:8080/"
        },
        "outputId": "92c031d9-24ba-489e-f8d5-108c35989469",
        "id": "6jpcJI1SQ9rT"
      },
      "outputs": [
        {
          "output_type": "stream",
          "name": "stdout",
          "text": [
            "146 277\n"
          ]
        }
      ],
      "source": [
        "import math\n",
        "\n",
        "predictions_lstm = lstm.predict(np.array(x_test_preprocessed).reshape([len(x_test_preprocessed),1,vector_size]))\n",
        "\n",
        "print(sum([math.ceil(predictions_lstm[i]) == y_test[i] for i in range(len(x_test))]), len(x_test))"
      ]
    },
    {
      "cell_type": "code",
      "execution_count": null,
      "metadata": {
        "colab": {
          "base_uri": "https://localhost:8080/",
          "height": 573
        },
        "outputId": "b1fde972-0ca0-4a8d-8624-6ae1827c9c92",
        "id": "AK39aTjsQ9rU"
      },
      "outputs": [
        {
          "output_type": "stream",
          "name": "stdout",
          "text": [
            "BERT, LSTM, addition\n",
            "F-measure or f1-score:  0.690307328605201\n",
            "Log loss:  1.1685244797235976\n",
            "Log loss:  16.334600920565542\n",
            "AUC:  0.5475792115444944\n",
            "AUC:  0.5\n",
            "Classification Report:\n",
            "              precision    recall  f1-score   support\n",
            "\n",
            "           1     0.5271    1.0000    0.6903       146\n",
            "           0     0.0000    0.0000    0.0000       131\n",
            "\n",
            "    accuracy                         0.5271       277\n",
            "   macro avg     0.2635    0.5000    0.3452       277\n",
            "weighted avg     0.2778    0.5271    0.3638       277\n",
            "\n"
          ]
        },
        {
          "output_type": "display_data",
          "data": {
            "text/plain": [
              "<Figure size 432x288 with 2 Axes>"
            ],
            "image/png": "[encoded data removed]"
          },
          "metadata": {
            "needs_background": "light"
          }
        }
      ],
      "source": [
        "# model evaluation\n",
        "\n",
        "print(\"BERT, LSTM, addition\")\n",
        "print(\"F-measure or f1-score: \", f1_score(y_test, [math.ceil(predictions_lstm[i]) for i in range(len(predictions_lstm))]))\n",
        "print(\"Log loss: \", log_loss(y_test, predictions_lstm))\n",
        "print(\"Log loss: \", log_loss(y_test, [math.ceil(predictions_lstm[i]) for i in range(len(predictions_lstm))]))\n",
        "\n",
        "fpr, tpr, thresholds = roc_curve(y_test, predictions_lstm)\n",
        "\n",
        "print(\"AUC: \", auc(fpr, tpr))\n",
        "\n",
        "fpr, tpr, thresholds = roc_curve(y_test,[math.ceil(predictions_lstm[i]) for i in range(len(predictions_lstm))])\n",
        "\n",
        "print(\"AUC: \", auc(fpr, tpr))\n",
        "\n",
        "eval(y_test, [math.ceil(predictions_lstm[i]) for i in range(len(predictions_lstm))])\n",
        "\n",
        "\n"
      ]
    }
  ],
  "metadata": {
    "colab": {
      "name": "RTE.ipynb",
      "provenance": [],
      "collapsed_sections": []
    },
    "kernelspec": {
      "display_name": "Python 3",
      "name": "python3"
    },
    "language_info": {
      "name": "python"
    }
  },
  "nbformat": 4,
  "nbformat_minor": 0
}